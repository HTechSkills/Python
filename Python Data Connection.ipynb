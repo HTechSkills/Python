{
 "cells": [
  {
   "cell_type": "code",
   "execution_count": 1,
   "id": "60bb888b",
   "metadata": {},
   "outputs": [
    {
     "name": "stdout",
     "output_type": "stream",
     "text": [
      "^C\n",
      "Note: you may need to restart the kernel to use updated packages.\n"
     ]
    }
   ],
   "source": [
    "pip install psycopg2"
   ]
  },
  {
   "cell_type": "code",
   "execution_count": 2,
   "id": "ad4da3df",
   "metadata": {},
   "outputs": [],
   "source": [
    "import psycopg2\n",
    "\n",
    "# Define the connection parameters\n",
    "dbname = 'postgres'\n",
    "user = 'postgres'\n",
    "password = 'tiger'\n",
    "host = 'localhost'  # default is 'localhost'\n",
    "port = '5432'  # default is '5432'\n",
    "\n",
    "try:\n",
    "    connection = psycopg2.connect(dbname=dbname, user=user, password=password, host=host, port=port)\n",
    "\n",
    "    # Create a cursor object to execute SQL queries\n",
    "    cursor = connection.cursor()\n",
    "except (Exception, psycopg2.Error) as error:\n",
    "    print(\"Error while connecting to PostgreSQL\", error)\n"
   ]
  },
  {
   "cell_type": "code",
   "execution_count": 3,
   "id": "add0a9e2",
   "metadata": {},
   "outputs": [],
   "source": [
    "connection.set_session(autocommit=True)"
   ]
  },
  {
   "cell_type": "code",
   "execution_count": 59,
   "id": "0dfc756a",
   "metadata": {},
   "outputs": [],
   "source": [
    "try:\n",
    "    cur.execute(\"INSERT INTO students(student_id, name, age, gender, suject, marks) VALUES \\\n",
    "                 (%s, %s, %s, %s, %s, %s)\", \\\n",
    "                 (1, 'Raj', 23, 'Male', 'Python', 85))\n",
    "    \n",
    "except (Exception, psycopg2.Error) as error:\n",
    "    print(\"Error while connecting to PostgreSQL:\", error)\n",
    "\n",
    "    \n",
    "try:\n",
    "    cur.execute(\"INSERT INTO students(student_id,name,age,gender,suject,marks) VALUES \\\n",
    "                 (%s, %s, %s, %s, %s, %s)\", \\\n",
    "                 (2, 'Priya', 22, 'Female','Python', 86))\n",
    "   \n",
    "except (Exception, psycopg2.Error) as error:\n",
    "    print(\"Error while connecting to PostgreSQL\", error)    \n",
    "    "
   ]
  },
  {
   "cell_type": "code",
   "execution_count": 4,
   "id": "1867dbd3-46b7-4a02-8b59-366f2be57d0e",
   "metadata": {},
   "outputs": [],
   "source": [
    "connection.close()"
   ]
  },
  {
   "cell_type": "code",
   "execution_count": 4,
   "id": "d810d31c",
   "metadata": {},
   "outputs": [
    {
     "name": "stdout",
     "output_type": "stream",
     "text": [
      "Error while connecting to PostgreSQL database \"myfirstdb\" already exists\n",
      "\n"
     ]
    }
   ],
   "source": [
    "try:\n",
    "    cursor.execute(\"create database myfirstdb\")\n",
    "    \n",
    "except (Exception, psycopg2.Error) as error:\n",
    "    print(\"Error while connecting to PostgreSQL\", error)    "
   ]
  },
  {
   "cell_type": "code",
   "execution_count": null,
   "id": "ca3a42fc",
   "metadata": {},
   "outputs": [],
   "source": [
    "import psycopg2\n",
    "# Define the connection parameters\n",
    "dbname = 'myfirstdb'\n",
    "user = 'postgres'\n",
    "password = 'tiger'\n",
    "host = 'localhost'  # default is 'localhost'\n",
    "port = '5432'  # default is '5432'\n",
    "\n",
    "try:\n",
    "    connection = psycopg2.connect(dbname=dbname, user=user, password=password, host=host, port=port)\n",
    "\n",
    "    # Create a cursor object to execute SQL queries\n",
    "    cursor = connection.cursor()\n",
    "except (Exception, psycopg2.Error) as error:\n",
    "    print(\"Error while connecting to PostgreSQL\", error)\n",
    "    connection.set_session(autocommit=True)"
   ]
  },
  {
   "cell_type": "code",
   "execution_count": null,
   "id": "7ad3fd68",
   "metadata": {},
   "outputs": [],
   "source": [
    "try:\n",
    "    cur = connection.cursor()\n",
    "except (Exception, psycopg2.Error) as error:\n",
    "    print(\"Error while connecting to PostgreSQL\", error)\n",
    "    connection.set_session(autocommit=True)\n",
    "    "
   ]
  },
  {
   "cell_type": "markdown",
   "id": "0023d547",
   "metadata": {},
   "source": [
    "# Create Table for Students which includes below columns \n",
    "student_id name age gender subject marks"
   ]
  },
  {
   "cell_type": "code",
   "execution_count": null,
   "id": "96584800",
   "metadata": {},
   "outputs": [],
   "source": [
    "try:\n",
    "    cur.execute (\"CREATE TABLE IF NOT EXISTS students(student_id int, name varchar, age int, gender varchar, suject varchar,marks int)\")\n",
    "    print(\"done\")\n",
    "except (Exception, psycopg2.Error) as error:\n",
    "    print(\"Error while connecting to PostgreSQL\", error)"
   ]
  },
  {
   "cell_type": "markdown",
   "id": "69256949",
   "metadata": {},
   "source": [
    "# Insert the following two rows in the table\n",
    "First row : 1, 'Raj', 23, 'Male','Python' 85\n",
    "Second row: 2, 'Priya', 22, 'Female', 'Python',86"
   ]
  },
  {
   "cell_type": "code",
   "execution_count": null,
   "id": "0492c61d",
   "metadata": {},
   "outputs": [],
   "source": [
    "try:\n",
    "    cur.execute(\"INSERT INTO students(student_id, name, age, gender, suject, marks) VALUES \\\n",
    "                 (%s, %s, %s, %s, %s, %s)\", \\\n",
    "                 (1, 'Raj', 23, 'Male', 'Python', 85))\n",
    "    \n",
    "except (Exception, psycopg2.Error) as error:\n",
    "    print(\"Error while connecting to PostgreSQL:\", error)\n",
    "\n",
    "    \n",
    "try:\n",
    "    cur.execute(\"INSERT INTO students(student_id,name,age,gender,suject,marks) VALUES \\\n",
    "                 (%s, %s, %s, %s, %s, %s)\", \\\n",
    "                 (2, 'Priya', 22, 'Female','Python', 86))\n",
    "    \n",
    "except (Exception, psycopg2.Error) as error:\n",
    "    print(\"Error while connecting to PostgreSQL\", error)    \n",
    "    \n",
    "    "
   ]
  },
  {
   "cell_type": "code",
   "execution_count": null,
   "id": "a1b307fa",
   "metadata": {},
   "outputs": [],
   "source": []
  },
  {
   "cell_type": "code",
   "execution_count": null,
   "id": "a9f6ee8c",
   "metadata": {},
   "outputs": [],
   "source": []
  }
 ],
 "metadata": {
  "kernelspec": {
   "display_name": "Python 3 (ipykernel)",
   "language": "python",
   "name": "python3"
  },
  "language_info": {
   "codemirror_mode": {
    "name": "ipython",
    "version": 3
   },
   "file_extension": ".py",
   "mimetype": "text/x-python",
   "name": "python",
   "nbconvert_exporter": "python",
   "pygments_lexer": "ipython3",
   "version": "3.10.9"
  }
 },
 "nbformat": 4,
 "nbformat_minor": 5
}
